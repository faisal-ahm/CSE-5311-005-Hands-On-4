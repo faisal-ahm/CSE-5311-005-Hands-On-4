{
 "cells": [
  {
   "cell_type": "code",
   "execution_count": 8,
   "id": "6b3faefe-e4ef-41df-a3c3-6dab6098c4d0",
   "metadata": {
    "tags": []
   },
   "outputs": [],
   "source": [
    "def merge_2sorted_arrays(a1, a2):\n",
    "    merged_array = []\n",
    "    i, j = 0, 0\n",
    "\n",
    "    while i < len(a1) and j < len(a2):\n",
    "        if a1[i] < a2[j]:\n",
    "            merged_array.append(a1[i])\n",
    "            i += 1\n",
    "        else:\n",
    "            merged_array.append(a2[j])\n",
    "            j += 1\n",
    "\n",
    "    merged_array.extend(a1[i:])\n",
    "    merged_array.extend(a2[j:])\n",
    "    \n",
    "    return merged_array"
   ]
  },
  {
   "cell_type": "code",
   "execution_count": 9,
   "id": "c57faeaf-7481-4f1f-8085-d40bdb8a87c0",
   "metadata": {
    "tags": []
   },
   "outputs": [],
   "source": [
    "def merge_ksorted_arrays(arrays):\n",
    "    if len(arrays) == 1:\n",
    "        return arrays[0]\n",
    "    if len(arrays) == 2:\n",
    "        return merge_2sorted_arrays(arrays[0], arrays[1])\n",
    "\n",
    "    mid = len(arrays) // 2\n",
    "    left_merged = merge_ksorted_arrays(arrays[:mid])\n",
    "    right_merged = merge_ksorted_arrays(arrays[mid:])\n",
    "    \n",
    "    return merge_2sorted_arrays(left_merged, right_merged)"
   ]
  },
  {
   "cell_type": "code",
   "execution_count": 11,
   "id": "38f1fa5a-e744-41b5-b56c-bddd9f15b6f9",
   "metadata": {
    "tags": []
   },
   "outputs": [
    {
     "name": "stdout",
     "output_type": "stream",
     "text": [
      "[0, 1, 2, 3, 4, 5, 6, 7, 8, 9, 10, 11]\n"
     ]
    }
   ],
   "source": [
    "array1 = [1,3,5,7]\n",
    "array2 = [2,4,6,8]\n",
    "array3 = [0,9,10,11]\n",
    "arrays = [array1, array2, array3]\n",
    "\n",
    "sorted = merge_ksorted_arrays(arrays)\n",
    "\n",
    "print(sorted)"
   ]
  },
  {
   "cell_type": "code",
   "execution_count": null,
   "id": "8625ab79-d3d7-49b6-a87f-58bb2fd1d441",
   "metadata": {},
   "outputs": [],
   "source": []
  }
 ],
 "metadata": {
  "kernelspec": {
   "display_name": "Python 3 (ipykernel)",
   "language": "python",
   "name": "python3"
  },
  "language_info": {
   "codemirror_mode": {
    "name": "ipython",
    "version": 3
   },
   "file_extension": ".py",
   "mimetype": "text/x-python",
   "name": "python",
   "nbconvert_exporter": "python",
   "pygments_lexer": "ipython3",
   "version": "3.11.4"
  }
 },
 "nbformat": 4,
 "nbformat_minor": 5
}
